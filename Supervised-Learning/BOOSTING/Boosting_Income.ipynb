{
 "cells": [
  {
   "cell_type": "code",
   "execution_count": 3,
   "metadata": {},
   "outputs": [],
   "source": [
    "# https://www.kaggle.com/lodetomasi1995/income-classification\n",
    "import pandas as pd\n",
    "import numpy as np\n",
    "from sklearn.ensemble import RandomForestClassifier, AdaBoostClassifier\n",
    "from sklearn.model_selection import train_test_split\n",
    "from sklearn import metrics\n",
    "from sklearn.tree import DecisionTreeClassifier, export_graphviz\n",
    "from IPython.display import Image\n",
    "import pydotplus\n",
    "from io import StringIO\n",
    "from sklearn.model_selection import cross_val_score, ShuffleSplit, GridSearchCV, validation_curve, learning_curve\n",
    "from sklearn.metrics import classification_report, confusion_matrix, accuracy_score\n",
    "import seaborn as sns\n",
    "import matplotlib.pyplot as plt\n",
    "from pprint import pprint as pp\n",
    "from sklearn.pipeline import Pipeline, make_pipeline\n",
    "from sklearn.preprocessing import StandardScaler, MinMaxScaler\n",
    "from sklearn.feature_selection import SelectFromModel\n",
    "from sklearn.ensemble import RandomForestClassifier\n",
    "\n",
    "import time, os\n",
    "from sklearn.preprocessing import LabelEncoder"
   ]
  },
  {
   "cell_type": "code",
   "execution_count": 4,
   "metadata": {},
   "outputs": [],
   "source": [
    "import warnings; warnings.simplefilter('ignore')"
   ]
  },
  {
   "cell_type": "code",
   "execution_count": 5,
   "metadata": {},
   "outputs": [],
   "source": [
    "np.random.seed(0)\n",
    "df = pd.read_csv(\"../../Data/income_evaluation.csv\")\n",
    "df = df.apply(lambda x: x.str.strip() if x.dtype == \"object\" else x)\n",
    "df = df.dropna()\n",
    "df = df.ffill()\n",
    "df = df.bfill()\n",
    "df.columns = list(map(lambda x: x.strip(), df.columns))"
   ]
  },
  {
   "cell_type": "code",
   "execution_count": 6,
   "metadata": {},
   "outputs": [
    {
     "data": {
      "text/html": [
       "<div>\n",
       "<style scoped>\n",
       "    .dataframe tbody tr th:only-of-type {\n",
       "        vertical-align: middle;\n",
       "    }\n",
       "\n",
       "    .dataframe tbody tr th {\n",
       "        vertical-align: top;\n",
       "    }\n",
       "\n",
       "    .dataframe thead th {\n",
       "        text-align: right;\n",
       "    }\n",
       "</style>\n",
       "<table border=\"1\" class=\"dataframe\">\n",
       "  <thead>\n",
       "    <tr style=\"text-align: right;\">\n",
       "      <th></th>\n",
       "      <th>age</th>\n",
       "      <th>workclass</th>\n",
       "      <th>fnlwgt</th>\n",
       "      <th>education</th>\n",
       "      <th>education-num</th>\n",
       "      <th>marital-status</th>\n",
       "      <th>occupation</th>\n",
       "      <th>relationship</th>\n",
       "      <th>race</th>\n",
       "      <th>sex</th>\n",
       "      <th>capital-gain</th>\n",
       "      <th>capital-loss</th>\n",
       "      <th>hours-per-week</th>\n",
       "      <th>native-country</th>\n",
       "      <th>income</th>\n",
       "    </tr>\n",
       "  </thead>\n",
       "  <tbody>\n",
       "    <tr>\n",
       "      <th>0</th>\n",
       "      <td>39</td>\n",
       "      <td>State-gov</td>\n",
       "      <td>77516</td>\n",
       "      <td>Bachelors</td>\n",
       "      <td>13</td>\n",
       "      <td>Never-married</td>\n",
       "      <td>Adm-clerical</td>\n",
       "      <td>Not-in-family</td>\n",
       "      <td>White</td>\n",
       "      <td>Male</td>\n",
       "      <td>2174</td>\n",
       "      <td>0</td>\n",
       "      <td>40</td>\n",
       "      <td>United-States</td>\n",
       "      <td>0</td>\n",
       "    </tr>\n",
       "    <tr>\n",
       "      <th>1</th>\n",
       "      <td>50</td>\n",
       "      <td>Self-emp-not-inc</td>\n",
       "      <td>83311</td>\n",
       "      <td>Bachelors</td>\n",
       "      <td>13</td>\n",
       "      <td>Married-civ-spouse</td>\n",
       "      <td>Exec-managerial</td>\n",
       "      <td>Husband</td>\n",
       "      <td>White</td>\n",
       "      <td>Male</td>\n",
       "      <td>0</td>\n",
       "      <td>0</td>\n",
       "      <td>13</td>\n",
       "      <td>United-States</td>\n",
       "      <td>0</td>\n",
       "    </tr>\n",
       "    <tr>\n",
       "      <th>2</th>\n",
       "      <td>38</td>\n",
       "      <td>Private</td>\n",
       "      <td>215646</td>\n",
       "      <td>HS-grad</td>\n",
       "      <td>9</td>\n",
       "      <td>Divorced</td>\n",
       "      <td>Handlers-cleaners</td>\n",
       "      <td>Not-in-family</td>\n",
       "      <td>White</td>\n",
       "      <td>Male</td>\n",
       "      <td>0</td>\n",
       "      <td>0</td>\n",
       "      <td>40</td>\n",
       "      <td>United-States</td>\n",
       "      <td>0</td>\n",
       "    </tr>\n",
       "    <tr>\n",
       "      <th>3</th>\n",
       "      <td>53</td>\n",
       "      <td>Private</td>\n",
       "      <td>234721</td>\n",
       "      <td>11th</td>\n",
       "      <td>7</td>\n",
       "      <td>Married-civ-spouse</td>\n",
       "      <td>Handlers-cleaners</td>\n",
       "      <td>Husband</td>\n",
       "      <td>Black</td>\n",
       "      <td>Male</td>\n",
       "      <td>0</td>\n",
       "      <td>0</td>\n",
       "      <td>40</td>\n",
       "      <td>United-States</td>\n",
       "      <td>0</td>\n",
       "    </tr>\n",
       "    <tr>\n",
       "      <th>4</th>\n",
       "      <td>28</td>\n",
       "      <td>Private</td>\n",
       "      <td>338409</td>\n",
       "      <td>Bachelors</td>\n",
       "      <td>13</td>\n",
       "      <td>Married-civ-spouse</td>\n",
       "      <td>Prof-specialty</td>\n",
       "      <td>Wife</td>\n",
       "      <td>Black</td>\n",
       "      <td>Female</td>\n",
       "      <td>0</td>\n",
       "      <td>0</td>\n",
       "      <td>40</td>\n",
       "      <td>Cuba</td>\n",
       "      <td>0</td>\n",
       "    </tr>\n",
       "  </tbody>\n",
       "</table>\n",
       "</div>"
      ],
      "text/plain": [
       "   age         workclass  fnlwgt  education  education-num  \\\n",
       "0   39         State-gov   77516  Bachelors             13   \n",
       "1   50  Self-emp-not-inc   83311  Bachelors             13   \n",
       "2   38           Private  215646    HS-grad              9   \n",
       "3   53           Private  234721       11th              7   \n",
       "4   28           Private  338409  Bachelors             13   \n",
       "\n",
       "       marital-status         occupation   relationship   race     sex  \\\n",
       "0       Never-married       Adm-clerical  Not-in-family  White    Male   \n",
       "1  Married-civ-spouse    Exec-managerial        Husband  White    Male   \n",
       "2            Divorced  Handlers-cleaners  Not-in-family  White    Male   \n",
       "3  Married-civ-spouse  Handlers-cleaners        Husband  Black    Male   \n",
       "4  Married-civ-spouse     Prof-specialty           Wife  Black  Female   \n",
       "\n",
       "   capital-gain  capital-loss  hours-per-week native-country income  \n",
       "0          2174             0              40  United-States      0  \n",
       "1             0             0              13  United-States      0  \n",
       "2             0             0              40  United-States      0  \n",
       "3             0             0              40  United-States      0  \n",
       "4             0             0              40           Cuba      0  "
      ]
     },
     "execution_count": 6,
     "metadata": {},
     "output_type": "execute_result"
    }
   ],
   "source": [
    "price_range = df[['income']].to_numpy()\n",
    "price_range[price_range==\"<=50K\"] = 0\n",
    "price_range[price_range==\">50K\"] = 1\n",
    "df['income'] = pd.DataFrame(price_range, columns=['income'])\n",
    "y_new = pd.DataFrame(price_range, columns=['income'])\n",
    "df[['income']].value_counts()\n",
    "df.head()"
   ]
  },
  {
   "cell_type": "code",
   "execution_count": 7,
   "metadata": {},
   "outputs": [],
   "source": [
    "# Do a one-hot encoding of string features - otherwise the predict method will fail\n",
    "for i in df.columns:\n",
    "    if i in ['workclass', 'education','marital-status', 'occupation', 'relationship', 'race', 'sex', 'native-country']:\n",
    "        df[i] = LabelEncoder().fit_transform(df[i])"
   ]
  },
  {
   "cell_type": "code",
   "execution_count": 8,
   "metadata": {},
   "outputs": [
    {
     "data": {
      "text/plain": [
       "income\n",
       "0         24720\n",
       "1          7841\n",
       "dtype: int64"
      ]
     },
     "execution_count": 8,
     "metadata": {},
     "output_type": "execute_result"
    }
   ],
   "source": [
    "X = df.drop(columns=['income', 'fnlwgt', 'education-num', 'relationship', 'capital-gain', 'capital-loss'])\n",
    "y = y_new\n",
    "y=y.astype('int')\n",
    "x_train, x_test, y_train, y_test = train_test_split(X, y, stratify=y, test_size=0.2)\n",
    "df[['income']].value_counts()"
   ]
  },
  {
   "cell_type": "code",
   "execution_count": 9,
   "metadata": {},
   "outputs": [],
   "source": [
    "# preventing information about the distribution of the test set leaking into your model\n",
    "# standard_scaler = MinMaxScaler()\n",
    "# x_train_scaled = standard_scaler.fit_transform(x_train)\n",
    "# x_test_scaled = standard_scaler.fit_transform(x_test)\n",
    "# y_train_scaled = standard_scaler.fit_transform(y_train).astype('int')\n",
    "# y_test_scaled = standard_scaler.fit_transform(y_test).astype('int')\n",
    "\n",
    "x_train_scaled = x_train\n",
    "x_test_scaled = x_test\n",
    "y_train_scaled = y_train\n",
    "y_test_scaled = y_test"
   ]
  },
  {
   "cell_type": "code",
   "execution_count": 10,
   "metadata": {},
   "outputs": [
    {
     "name": "stdout",
     "output_type": "stream",
     "text": [
      "KNN Normal Model: Fit Time: 0.3971436023712158\n",
      "KNN Normal Model: Fit Time: 0.030681133270263672\n",
      "Score of Model Tree are (Mean Accuracy of test and train data): 0.8314140948871488\n",
      "              precision    recall  f1-score   support\n",
      "\n",
      "           0       0.87      0.92      0.89      4945\n",
      "           1       0.68      0.56      0.61      1568\n",
      "\n",
      "    accuracy                           0.83      6513\n",
      "   macro avg       0.78      0.74      0.75      6513\n",
      "weighted avg       0.82      0.83      0.83      6513\n",
      "\n"
     ]
    }
   ],
   "source": [
    "clf = AdaBoostClassifier(random_state=0, base_estimator=DecisionTreeClassifier(random_state=1, max_depth=1))\n",
    "start_time = time.time()\n",
    "clf.fit(x_train_scaled, y_train_scaled)\n",
    "print(f\"KNN Normal Model: Fit Time: {time.time() - start_time}\")\n",
    "start_time = time.time()\n",
    "y_pred = clf.predict(x_test_scaled)\n",
    "print(f\"KNN Normal Model: Fit Time: {time.time() - start_time}\")\n",
    "print(f\"Score of Model Tree are (Mean Accuracy of test and train data): {accuracy_score(y_test_scaled, y_pred)}\")\n",
    "print(classification_report(y_test_scaled, y_pred))"
   ]
  },
  {
   "cell_type": "code",
   "execution_count": 36,
   "metadata": {},
   "outputs": [],
   "source": [
    "d = df.shape[1]\n",
    "depth_range = np.arange(0, 2, 0.1)\n",
    "depth_range = np.arange(1, 200, 10)\n",
    "param = \"n_estimators\"\n",
    "classifier = \"AdaBoost\"\n",
    "train_scores, test_scores = validation_curve(clf, x_train, y_train, param_name=param, param_range=depth_range, cv=5, n_jobs=-1)"
   ]
  },
  {
   "cell_type": "code",
   "execution_count": 40,
   "metadata": {},
   "outputs": [
    {
     "data": {
      "image/png": "[encoded data removed]",
      "text/plain": [
       "<Figure size 432x288 with 1 Axes>"
      ]
     },
     "metadata": {
      "needs_background": "light"
     },
     "output_type": "display_data"
    }
   ],
   "source": [
    "mean_train_scores = np.mean(train_scores, axis=1)\n",
    "std_train_scores = np.std(train_scores, axis=1)\n",
    "mean_test_scores = np.mean(test_scores, axis=1)\n",
    "std_test_scores = np.std(test_scores, axis=1)\n",
    "depth_range_list = depth_range\n",
    "plt.figure()\n",
    "plt.xticks(np.arange(1, 200, 10))\n",
    "plt.plot(depth_range_list, mean_train_scores, 'o-', color=\"darkorange\", label='Training score')\n",
    "plt.fill_between(depth_range_list, mean_train_scores - std_train_scores, mean_train_scores + std_train_scores, alpha=0.2)\n",
    "plt.plot(depth_range_list, mean_test_scores, 'o-', color=\"navy\", label='Cross-validation score')\n",
    "plt.fill_between(depth_range_list, mean_test_scores - std_test_scores, mean_test_scores + std_test_scores, alpha=0.2)\n",
    "plt.title(f'Validation curve for {classifier}')\n",
    "plt.xlabel(param)\n",
    "plt.ylabel(\"score\")\n",
    "plt.legend(loc=\"best\")\n",
    "plt.grid()\n",
    "plt.savefig(os.getcwd() + '/ada_validation_curve_income.png')\n",
    "plt.show()"
   ]
  },
  {
   "cell_type": "code",
   "execution_count": 39,
   "metadata": {},
   "outputs": [
    {
     "name": "stdout",
     "output_type": "stream",
     "text": [
      "MLP Pipeline Model: Fit Time: 6.742261648178101\n",
      "MLP Pipeline Model: Predict Time: 0.054398298263549805\n",
      "Score of Model Tree are (Mean Accuracy of test and train data): 0.8327959465684016\n",
      "              precision    recall  f1-score   support\n",
      "\n",
      "           0       0.87      0.92      0.89      4945\n",
      "           1       0.69      0.55      0.61      1568\n",
      "\n",
      "    accuracy                           0.83      6513\n",
      "   macro avg       0.78      0.74      0.75      6513\n",
      "weighted avg       0.82      0.83      0.83      6513\n",
      "\n"
     ]
    }
   ],
   "source": [
    "### PIPELINES ###\n",
    "# Data scaled in pipeline already\n",
    "pipeline = make_pipeline(SelectFromModel(RandomForestClassifier(random_state=0)), AdaBoostClassifier(random_state=0))\n",
    "pipeline.fit(x_train_scaled, y_train_scaled)\n",
    "print(f\"MLP Pipeline Model: Fit Time: {time.time() - start_time}\")\n",
    "start_time = time.time()\n",
    "y_pred_pipeline = pipeline.predict(x_test_scaled)\n",
    "print(f\"MLP Pipeline Model: Predict Time: {time.time() - start_time}\")\n",
    "print(f\"Score of Model Tree are (Mean Accuracy of test and train data): {accuracy_score(y_test_scaled, y_pred_pipeline)}\")\n",
    "print(classification_report(y_test_scaled, y_pred_pipeline))"
   ]
  },
  {
   "cell_type": "code",
   "execution_count": 41,
   "metadata": {},
   "outputs": [
    {
     "name": "stdout",
     "output_type": "stream",
     "text": [
      "Fitting 5 folds for each of 1990 candidates, totalling 9950 fits\n"
     ]
    },
    {
     "name": "stderr",
     "output_type": "stream",
     "text": [
      "[Parallel(n_jobs=-1)]: Using backend LokyBackend with 96 concurrent workers.\n",
      "[Parallel(n_jobs=-1)]: Done   8 tasks      | elapsed:    1.9s\n",
      "[Parallel(n_jobs=-1)]: Done 258 tasks      | elapsed:    6.4s\n",
      "[Parallel(n_jobs=-1)]: Done 608 tasks      | elapsed:   14.3s\n",
      "[Parallel(n_jobs=-1)]: Done 1058 tasks      | elapsed:   24.0s\n",
      "[Parallel(n_jobs=-1)]: Done 1608 tasks      | elapsed:   40.3s\n",
      "[Parallel(n_jobs=-1)]: Done 2258 tasks      | elapsed:  1.0min\n",
      "[Parallel(n_jobs=-1)]: Done 3008 tasks      | elapsed:  1.4min\n",
      "[Parallel(n_jobs=-1)]: Done 3858 tasks      | elapsed:  1.9min\n",
      "[Parallel(n_jobs=-1)]: Done 4808 tasks      | elapsed:  2.4min\n",
      "[Parallel(n_jobs=-1)]: Done 5858 tasks      | elapsed:  3.0min\n",
      "[Parallel(n_jobs=-1)]: Done 7008 tasks      | elapsed:  3.6min\n",
      "[Parallel(n_jobs=-1)]: Done 8258 tasks      | elapsed:  4.2min\n",
      "[Parallel(n_jobs=-1)]: Done 9608 tasks      | elapsed:  5.0min\n",
      "[Parallel(n_jobs=-1)]: Done 9950 out of 9950 | elapsed:  5.2min finished\n"
     ]
    },
    {
     "name": "stdout",
     "output_type": "stream",
     "text": [
      "MLP CV Model: Fit Time: 312.64236855506897\n",
      "MLP CV Model: Predict Time: 0.05526590347290039\n",
      "Score of Model Tree are (Mean Accuracy of test and train data): 0.828036235221864\n",
      "              precision    recall  f1-score   support\n",
      "\n",
      "           0       0.86      0.92      0.89      4945\n",
      "           1       0.69      0.52      0.59      1568\n",
      "\n",
      "    accuracy                           0.83      6513\n",
      "   macro avg       0.77      0.72      0.74      6513\n",
      "weighted avg       0.82      0.83      0.82      6513\n",
      "\n"
     ]
    }
   ],
   "source": [
    "### TUNING ####\n",
    "d = x_train.shape[1]\n",
    "param = {'adaboostclassifier__learning_rate': np.arange(0.0, 1.0, 0.1),\n",
    "         'adaboostclassifier__algorithm': ['SAMME'],\n",
    "         'adaboostclassifier__n_estimators': np.arange(1, 200),\n",
    "         'adaboostclassifier__base_estimator': [DecisionTreeClassifier(random_state=0, max_depth=1)]\n",
    "        }\n",
    "clf_cv = GridSearchCV(pipeline, n_jobs=-1, param_grid=param, refit=True, cv=5, return_train_score=True, verbose=1)\n",
    "start_time = time.time()\n",
    "clf_cv = clf_cv.fit(x_train_scaled, np.ravel(y_train_scaled))\n",
    "print(f\"MLP CV Model: Fit Time: {time.time() - start_time}\")\n",
    "start_time = time.time()\n",
    "y_pred_pipeline_cv = clf_cv.predict(x_test_scaled)\n",
    "print(f\"MLP CV Model: Predict Time: {time.time() - start_time}\")\n",
    "print(f\"Score of Model Tree are (Mean Accuracy of test and train data): {accuracy_score(y_test_scaled, y_pred_pipeline_cv)}\")\n",
    "print(classification_report(np.ravel(y_test_scaled), y_pred_pipeline_cv))"
   ]
  },
  {
   "cell_type": "code",
   "execution_count": 42,
   "metadata": {},
   "outputs": [
    {
     "data": {
      "text/plain": [
       "{'adaboostclassifier__algorithm': 'SAMME',\n",
       " 'adaboostclassifier__base_estimator': DecisionTreeClassifier(max_depth=1, random_state=0),\n",
       " 'adaboostclassifier__learning_rate': 0.9,\n",
       " 'adaboostclassifier__n_estimators': 141}"
      ]
     },
     "execution_count": 42,
     "metadata": {},
     "output_type": "execute_result"
    }
   ],
   "source": [
    "clf_cv.best_params_"
   ]
  },
  {
   "cell_type": "code",
   "execution_count": 43,
   "metadata": {},
   "outputs": [],
   "source": [
    "### Learning Curve ###\n",
    "train_sizes = np.arange(0.1, 1.0, 0.1)\n",
    "clf_new = AdaBoostClassifier(base_estimator=DecisionTreeClassifier(random_state=0, max_depth=1), \n",
    "                             n_estimators=141, learning_rate=0.9, algorithm=\"SAMME\")\n",
    "_, train_scores, test_scores = learning_curve(clf_new, x_train, np.ravel(y_train), train_sizes=train_sizes, cv=5)"
   ]
  },
  {
   "cell_type": "code",
   "execution_count": 44,
   "metadata": {},
   "outputs": [
    {
     "data": {
      "image/png": "[encoded data removed]",
      "text/plain": [
       "<Figure size 432x288 with 1 Axes>"
      ]
     },
     "metadata": {
      "needs_background": "light"
     },
     "output_type": "display_data"
    }
   ],
   "source": [
    "plt.figure()\n",
    "mean_train_scores = np.mean(train_scores, axis=1)\n",
    "std_train_scores = np.std(train_scores, axis=1)\n",
    "mean_test_scores = np.mean(test_scores, axis=1)\n",
    "std_test_scores = np.std(test_scores, axis=1)\n",
    "plt.plot(train_sizes, mean_train_scores, 'o-', label='Training score')\n",
    "plt.fill_between(train_sizes, mean_train_scores - std_train_scores, mean_train_scores + std_train_scores, alpha=0.2)\n",
    "plt.plot(train_sizes, mean_test_scores, 'o-', label='Cross-validation score')\n",
    "plt.fill_between(train_sizes, mean_test_scores - std_test_scores, mean_test_scores + std_test_scores, alpha=0.2)\n",
    "plt.title('Learning curve for Boosting')\n",
    "plt.xlabel('Fraction of training examples')\n",
    "plt.ylabel(\"Classification score\")\n",
    "plt.legend(loc=\"best\")\n",
    "plt.grid()\n",
    "plt.savefig(os.getcwd() + '/boosting_learning_curve_income.png')\n",
    "plt.show()"
   ]
  },
  {
   "cell_type": "code",
   "execution_count": 11,
   "metadata": {},
   "outputs": [
    {
     "name": "stdout",
     "output_type": "stream",
     "text": [
      "Iteration: 1\n",
      "Iteration: 11\n",
      "Iteration: 21\n",
      "Iteration: 31\n",
      "Iteration: 41\n",
      "Iteration: 51\n",
      "Iteration: 61\n",
      "Iteration: 71\n",
      "Iteration: 81\n",
      "Iteration: 91\n",
      "Iteration: 101\n",
      "Iteration: 111\n",
      "Iteration: 121\n",
      "Iteration: 131\n",
      "Iteration: 141\n",
      "Iteration: 151\n",
      "Iteration: 161\n",
      "Iteration: 171\n",
      "Iteration: 181\n",
      "Iteration: 191\n",
      "Iteration: 201\n",
      "Iteration: 211\n",
      "Iteration: 221\n",
      "Iteration: 231\n",
      "Iteration: 241\n",
      "Entire cell took 27.019009113311768\n"
     ]
    }
   ],
   "source": [
    "lw = 2\n",
    "params = np.arange(1, 250, 10)\n",
    "# params = np.arange(0.1, 2.0, 0.2)\n",
    "clf_score_list = []\n",
    "fit_time_list = []\n",
    "predict_time_list = []\n",
    "main_start_time = time.time()\n",
    "for i in params:\n",
    "    print(f\"Iteration: {i}\")\n",
    "    clf = AdaBoostClassifier(base_estimator=DecisionTreeClassifier(random_state=0, max_depth=1), n_estimators=i, learning_rate=0.9)\n",
    "    start_time = time.time()\n",
    "    clf.fit(x_train_scaled, y_train_scaled)\n",
    "    clf_score_list.append(clf.score(x_test_scaled, y_test_scaled))\n",
    "    \n",
    "    end_time = time.time() - start_time\n",
    "    fit_time_list.append(end_time)\n",
    "    \n",
    "    start_time = time.time()\n",
    "    y_pred = clf.predict(x_test_scaled)\n",
    "    end_time = time.time() - start_time\n",
    "    predict_time_list.append(end_time)\n",
    "    \n",
    "print(f\"Entire cell took {time.time() - main_start_time}\")"
   ]
  },
  {
   "cell_type": "code",
   "execution_count": 13,
   "metadata": {},
   "outputs": [
    {
     "data": {
      "image/png": "[encoded data removed]",
      "text/plain": [
       "<Figure size 432x288 with 1 Axes>"
      ]
     },
     "metadata": {
      "needs_background": "light"
     },
     "output_type": "display_data"
    }
   ],
   "source": [
    "def normalize_data_points(points):\n",
    "    return [float(i)/sum(points) for i in points]\n",
    "\n",
    "lw = 2\n",
    "param_list = params\n",
    "plt.plot(param_list, normalize_data_points(fit_time_list), label=\"Fit time\", color=\"darkred\", lw=lw)\n",
    "plt.plot(param_list, normalize_data_points(predict_time_list), label=\"Predict Time\", color=\"darkgreen\", lw=lw)\n",
    "\n",
    "plt.xlabel('n_estimators')\n",
    "plt.ylabel(\"Time(seconds)\")\n",
    "# plt.xticks(np.arange(1, len(param_list), 2.0))\n",
    "# plt.yticks(np.arange(min(predict_time_list), max(fit_time_list), 0.004))\n",
    "plt.grid()\n",
    "plt.legend(loc='lower right')\n",
    "plt.savefig(os.getcwd() + '/boosting_fit_vs_prediction_income.png')\n"
   ]
  },
  {
   "cell_type": "code",
   "execution_count": 53,
   "metadata": {},
   "outputs": [
    {
     "data": {
      "image/png": "[encoded data removed]",
      "text/plain": [
       "<Figure size 432x288 with 1 Axes>"
      ]
     },
     "metadata": {
      "needs_background": "light"
     },
     "output_type": "display_data"
    }
   ],
   "source": [
    "w = 2\n",
    "plt.plot(param_list, clf_score_list, label=\"Scores\", color=\"darkblue\", lw=lw)\n",
    "plt.xlabel('n_estimators')\n",
    "plt.ylabel(\"Score\")\n",
    "plt.grid()\n",
    "plt.legend(loc='lower right')\n",
    "plt.savefig(os.getcwd() + '/boosting_n_estimators_vs_score_income.png')\n"
   ]
  },
  {
   "cell_type": "code",
   "execution_count": null,
   "metadata": {},
   "outputs": [],
   "source": []
  }
 ],
 "metadata": {
  "kernelspec": {
   "display_name": "Python 3",
   "language": "python",
   "name": "python3"
  },
  "language_info": {
   "codemirror_mode": {
    "name": "ipython",
    "version": 3
   },
   "file_extension": ".py",
   "mimetype": "text/x-python",
   "name": "python",
   "nbconvert_exporter": "python",
   "pygments_lexer": "ipython3",
   "version": "3.8.2"
  }
 },
 "nbformat": 4,
 "nbformat_minor": 4
}
