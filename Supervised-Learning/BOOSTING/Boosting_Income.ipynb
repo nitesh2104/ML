{
 "cells": [
  {
   "cell_type": "code",
   "execution_count": 5,
   "metadata": {},
   "outputs": [],
   "source": [
    "# https://www.kaggle.com/lodetomasi1995/income-classification\n",
    "import pandas as pd\n",
    "import numpy as np\n",
    "from sklearn.ensemble import RandomForestClassifier, AdaBoostClassifier\n",
    "from sklearn.model_selection import train_test_split\n",
    "from sklearn import metrics\n",
    "from sklearn.tree import DecisionTreeClassifier, export_graphviz\n",
    "from IPython.display import Image\n",
    "import pydotplus\n",
    "from io import StringIO\n",
    "from sklearn.model_selection import cross_val_score, ShuffleSplit, GridSearchCV, validation_curve, learning_curve\n",
    "from sklearn.metrics import classification_report, confusion_matrix, accuracy_score\n",
    "import seaborn as sns\n",
    "import matplotlib.pyplot as plt\n",
    "from pprint import pprint as pp\n",
    "from sklearn.pipeline import Pipeline, make_pipeline\n",
    "from sklearn.preprocessing import StandardScaler, MinMaxScaler\n",
    "from sklearn.feature_selection import SelectFromModel\n",
    "from sklearn.ensemble import RandomForestClassifier\n",
    "\n",
    "import time\n",
    "from sklearn.preprocessing import LabelEncoder"
   ]
  },
  {
   "cell_type": "code",
   "execution_count": 6,
   "metadata": {},
   "outputs": [],
   "source": [
    "import warnings; warnings.simplefilter('ignore')"
   ]
  },
  {
   "cell_type": "code",
   "execution_count": 7,
   "metadata": {},
   "outputs": [],
   "source": [
    "np.random.seed(0)\n",
    "df = pd.read_csv(\"../../Data/income_evaluation.csv\")\n",
    "df = df.apply(lambda x: x.str.strip() if x.dtype == \"object\" else x)\n",
    "df = df.dropna()\n",
    "df = df.ffill()\n",
    "df = df.bfill()\n",
    "df.columns = list(map(lambda x: x.strip(), df.columns))"
   ]
  },
  {
   "cell_type": "code",
   "execution_count": 13,
   "metadata": {},
   "outputs": [
    {
     "data": {
      "text/html": [
       "<div>\n",
       "<style scoped>\n",
       "    .dataframe tbody tr th:only-of-type {\n",
       "        vertical-align: middle;\n",
       "    }\n",
       "\n",
       "    .dataframe tbody tr th {\n",
       "        vertical-align: top;\n",
       "    }\n",
       "\n",
       "    .dataframe thead th {\n",
       "        text-align: right;\n",
       "    }\n",
       "</style>\n",
       "<table border=\"1\" class=\"dataframe\">\n",
       "  <thead>\n",
       "    <tr style=\"text-align: right;\">\n",
       "      <th></th>\n",
       "      <th>age</th>\n",
       "      <th>workclass</th>\n",
       "      <th>fnlwgt</th>\n",
       "      <th>education</th>\n",
       "      <th>education-num</th>\n",
       "      <th>marital-status</th>\n",
       "      <th>occupation</th>\n",
       "      <th>relationship</th>\n",
       "      <th>race</th>\n",
       "      <th>sex</th>\n",
       "      <th>capital-gain</th>\n",
       "      <th>capital-loss</th>\n",
       "      <th>hours-per-week</th>\n",
       "      <th>native-country</th>\n",
       "      <th>income</th>\n",
       "    </tr>\n",
       "  </thead>\n",
       "  <tbody>\n",
       "    <tr>\n",
       "      <th>0</th>\n",
       "      <td>39</td>\n",
       "      <td>State-gov</td>\n",
       "      <td>77516</td>\n",
       "      <td>Bachelors</td>\n",
       "      <td>13</td>\n",
       "      <td>Never-married</td>\n",
       "      <td>Adm-clerical</td>\n",
       "      <td>Not-in-family</td>\n",
       "      <td>White</td>\n",
       "      <td>Male</td>\n",
       "      <td>2174</td>\n",
       "      <td>0</td>\n",
       "      <td>40</td>\n",
       "      <td>United-States</td>\n",
       "      <td>0</td>\n",
       "    </tr>\n",
       "    <tr>\n",
       "      <th>1</th>\n",
       "      <td>50</td>\n",
       "      <td>Self-emp-not-inc</td>\n",
       "      <td>83311</td>\n",
       "      <td>Bachelors</td>\n",
       "      <td>13</td>\n",
       "      <td>Married-civ-spouse</td>\n",
       "      <td>Exec-managerial</td>\n",
       "      <td>Husband</td>\n",
       "      <td>White</td>\n",
       "      <td>Male</td>\n",
       "      <td>0</td>\n",
       "      <td>0</td>\n",
       "      <td>13</td>\n",
       "      <td>United-States</td>\n",
       "      <td>0</td>\n",
       "    </tr>\n",
       "    <tr>\n",
       "      <th>2</th>\n",
       "      <td>38</td>\n",
       "      <td>Private</td>\n",
       "      <td>215646</td>\n",
       "      <td>HS-grad</td>\n",
       "      <td>9</td>\n",
       "      <td>Divorced</td>\n",
       "      <td>Handlers-cleaners</td>\n",
       "      <td>Not-in-family</td>\n",
       "      <td>White</td>\n",
       "      <td>Male</td>\n",
       "      <td>0</td>\n",
       "      <td>0</td>\n",
       "      <td>40</td>\n",
       "      <td>United-States</td>\n",
       "      <td>0</td>\n",
       "    </tr>\n",
       "    <tr>\n",
       "      <th>3</th>\n",
       "      <td>53</td>\n",
       "      <td>Private</td>\n",
       "      <td>234721</td>\n",
       "      <td>11th</td>\n",
       "      <td>7</td>\n",
       "      <td>Married-civ-spouse</td>\n",
       "      <td>Handlers-cleaners</td>\n",
       "      <td>Husband</td>\n",
       "      <td>Black</td>\n",
       "      <td>Male</td>\n",
       "      <td>0</td>\n",
       "      <td>0</td>\n",
       "      <td>40</td>\n",
       "      <td>United-States</td>\n",
       "      <td>0</td>\n",
       "    </tr>\n",
       "    <tr>\n",
       "      <th>4</th>\n",
       "      <td>28</td>\n",
       "      <td>Private</td>\n",
       "      <td>338409</td>\n",
       "      <td>Bachelors</td>\n",
       "      <td>13</td>\n",
       "      <td>Married-civ-spouse</td>\n",
       "      <td>Prof-specialty</td>\n",
       "      <td>Wife</td>\n",
       "      <td>Black</td>\n",
       "      <td>Female</td>\n",
       "      <td>0</td>\n",
       "      <td>0</td>\n",
       "      <td>40</td>\n",
       "      <td>Cuba</td>\n",
       "      <td>0</td>\n",
       "    </tr>\n",
       "  </tbody>\n",
       "</table>\n",
       "</div>"
      ],
      "text/plain": [
       "   age         workclass  fnlwgt  education  education-num  \\\n",
       "0   39         State-gov   77516  Bachelors             13   \n",
       "1   50  Self-emp-not-inc   83311  Bachelors             13   \n",
       "2   38           Private  215646    HS-grad              9   \n",
       "3   53           Private  234721       11th              7   \n",
       "4   28           Private  338409  Bachelors             13   \n",
       "\n",
       "       marital-status         occupation   relationship   race     sex  \\\n",
       "0       Never-married       Adm-clerical  Not-in-family  White    Male   \n",
       "1  Married-civ-spouse    Exec-managerial        Husband  White    Male   \n",
       "2            Divorced  Handlers-cleaners  Not-in-family  White    Male   \n",
       "3  Married-civ-spouse  Handlers-cleaners        Husband  Black    Male   \n",
       "4  Married-civ-spouse     Prof-specialty           Wife  Black  Female   \n",
       "\n",
       "   capital-gain  capital-loss  hours-per-week native-country income  \n",
       "0          2174             0              40  United-States      0  \n",
       "1             0             0              13  United-States      0  \n",
       "2             0             0              40  United-States      0  \n",
       "3             0             0              40  United-States      0  \n",
       "4             0             0              40           Cuba      0  "
      ]
     },
     "execution_count": 13,
     "metadata": {},
     "output_type": "execute_result"
    }
   ],
   "source": [
    "price_range = df[['income']].to_numpy()\n",
    "price_range[price_range==\"<=50K\"] = 0\n",
    "price_range[price_range==\">50K\"] = 1\n",
    "df['income'] = pd.DataFrame(price_range, columns=['income'])\n",
    "y_new = pd.DataFrame(price_range, columns=['income'])\n",
    "df[['income']].value_counts()\n",
    "df.head()"
   ]
  },
  {
   "cell_type": "code",
   "execution_count": 66,
   "metadata": {},
   "outputs": [],
   "source": [
    "# Do a one-hot encoding of string features - otherwise the predict method will fail\n",
    "for i in df.columns:\n",
    "    if i in ['workclass', 'education','marital-status', 'occupation', 'relationship', 'race', 'sex', 'native-country']:\n",
    "        df[i] = LabelEncoder().fit_transform(df[i])"
   ]
  },
  {
   "cell_type": "code",
   "execution_count": 67,
   "metadata": {},
   "outputs": [
    {
     "data": {
      "text/plain": [
       "income\n",
       "0         24720\n",
       "1          7841\n",
       "dtype: int64"
      ]
     },
     "execution_count": 67,
     "metadata": {},
     "output_type": "execute_result"
    }
   ],
   "source": [
    "X = df.drop(columns=['income', 'fnlwgt', 'education-num', 'relationship', 'capital-gain', 'capital-loss'])\n",
    "y = y_new\n",
    "y=y.astype('int')\n",
    "x_train, x_test, y_train, y_test = train_test_split(X, y, stratify=y, test_size=0.2)\n",
    "df[['income']].value_counts()"
   ]
  },
  {
   "cell_type": "code",
   "execution_count": 68,
   "metadata": {},
   "outputs": [],
   "source": [
    "# preventing information about the distribution of the test set leaking into your model\n",
    "standard_scaler = MinMaxScaler()\n",
    "x_train_scaled = standard_scaler.fit_transform(x_train)\n",
    "x_test_scaled = standard_scaler.fit_transform(x_test)\n",
    "y_train_scaled = standard_scaler.fit_transform(y_train).astype('int')\n",
    "y_test_scaled = standard_scaler.fit_transform(y_test).astype('int')"
   ]
  },
  {
   "cell_type": "code",
   "execution_count": 69,
   "metadata": {},
   "outputs": [
    {
     "name": "stdout",
     "output_type": "stream",
     "text": [
      "KNN Normal Model: Fit Time: 1.1883502006530762\n",
      "KNN Normal Model: Fit Time: 0.03738903999328613\n",
      "Score of Model Tree are (Mean Accuracy of test and train data): 0.7979425763856901\n",
      "              precision    recall  f1-score   support\n",
      "\n",
      "           0       0.86      0.88      0.87      4945\n",
      "           1       0.59      0.53      0.56      1568\n",
      "\n",
      "    accuracy                           0.80      6513\n",
      "   macro avg       0.72      0.71      0.71      6513\n",
      "weighted avg       0.79      0.80      0.79      6513\n",
      "\n"
     ]
    }
   ],
   "source": [
    "clf = AdaBoostClassifier(random_state=0, base_estimator=DecisionTreeClassifier(random_state=1))\n",
    "start_time = time.time()\n",
    "clf.fit(x_train_scaled, y_train_scaled)\n",
    "print(f\"KNN Normal Model: Fit Time: {time.time() - start_time}\")\n",
    "start_time = time.time()\n",
    "y_pred = clf.predict(x_test_scaled)\n",
    "print(f\"KNN Normal Model: Fit Time: {time.time() - start_time}\")\n",
    "print(f\"Score of Model Tree are (Mean Accuracy of test and train data): {accuracy_score(y_test_scaled, y_pred)}\")\n",
    "print(classification_report(y_test_scaled, y_pred))"
   ]
  },
  {
   "cell_type": "code",
   "execution_count": 70,
   "metadata": {},
   "outputs": [],
   "source": [
    "d = df.shape[1]\n",
    "depth_range = np.arange(0, 2, 0.1)\n",
    "param = \"learning_rate\"\n",
    "classifier = \"AdaBoost\"\n",
    "train_scores, test_scores = validation_curve(clf, x_train, y_train, param_name=param, param_range=depth_range, cv=5, n_jobs=-1)"
   ]
  },
  {
   "cell_type": "code",
   "execution_count": 71,
   "metadata": {},
   "outputs": [
    {
     "data": {
      "image/png": "[encoded data removed]",
      "text/plain": [
       "<Figure size 432x288 with 1 Axes>"
      ]
     },
     "metadata": {
      "needs_background": "light"
     },
     "output_type": "display_data"
    }
   ],
   "source": [
    "mean_train_scores = np.mean(train_scores, axis=1)\n",
    "std_train_scores = np.std(train_scores, axis=1)\n",
    "mean_test_scores = np.mean(test_scores, axis=1)\n",
    "std_test_scores = np.std(test_scores, axis=1)\n",
    "depth_range_list = depth_range\n",
    "plt.figure()\n",
    "plt.xticks(depth_range_list)\n",
    "plt.plot(depth_range_list, mean_train_scores, 'o-', label='Training score')\n",
    "plt.fill_between(depth_range_list, mean_train_scores - std_train_scores, mean_train_scores + std_train_scores, alpha=0.2)\n",
    "plt.plot(depth_range_list, mean_test_scores, 'o-', label='Cross-validation score')\n",
    "plt.fill_between(depth_range_list, mean_test_scores - std_test_scores, mean_test_scores + std_test_scores, alpha=0.2)\n",
    "plt.title(f'Validation curve for {classifier}')\n",
    "plt.xlabel(param)\n",
    "plt.ylabel(\"score\")\n",
    "plt.legend(loc=\"best\")\n",
    "plt.grid()\n",
    "#plt.savefig(fig_path + 'dt_validation_curve_1.png')\n",
    "plt.show()"
   ]
  },
  {
   "cell_type": "code",
   "execution_count": 72,
   "metadata": {},
   "outputs": [
    {
     "name": "stdout",
     "output_type": "stream",
     "text": [
      "MLP Pipeline Model: Fit Time: 22.850969791412354\n",
      "MLP Pipeline Model: Predict Time: 0.04343748092651367\n",
      "Score of Model Tree are (Mean Accuracy of test and train data): 0.8327959465684016\n",
      "              precision    recall  f1-score   support\n",
      "\n",
      "           0       0.87      0.92      0.89      4945\n",
      "           1       0.69      0.55      0.61      1568\n",
      "\n",
      "    accuracy                           0.83      6513\n",
      "   macro avg       0.78      0.74      0.75      6513\n",
      "weighted avg       0.82      0.83      0.83      6513\n",
      "\n"
     ]
    }
   ],
   "source": [
    "### PIPELINES ###\n",
    "# Data scaled in pipeline already\n",
    "pipeline = make_pipeline(MinMaxScaler(), SelectFromModel(RandomForestClassifier(random_state=0)), AdaBoostClassifier(random_state=0))\n",
    "pipeline.fit(x_train_scaled, y_train_scaled)\n",
    "print(f\"MLP Pipeline Model: Fit Time: {time.time() - start_time}\")\n",
    "start_time = time.time()\n",
    "y_pred_pipeline = pipeline.predict(x_test_scaled)\n",
    "print(f\"MLP Pipeline Model: Predict Time: {time.time() - start_time}\")\n",
    "print(f\"Score of Model Tree are (Mean Accuracy of test and train data): {accuracy_score(y_test_scaled, y_pred_pipeline)}\")\n",
    "print(classification_report(y_test_scaled, y_pred_pipeline))"
   ]
  },
  {
   "cell_type": "code",
   "execution_count": 82,
   "metadata": {},
   "outputs": [
    {
     "name": "stdout",
     "output_type": "stream",
     "text": [
      "Fitting 5 folds for each of 1999 candidates, totalling 9995 fits\n"
     ]
    },
    {
     "name": "stderr",
     "output_type": "stream",
     "text": [
      "[Parallel(n_jobs=-1)]: Using backend LokyBackend with 96 concurrent workers.\n",
      "[Parallel(n_jobs=-1)]: Done   8 tasks      | elapsed:    2.0s\n",
      "[Parallel(n_jobs=-1)]: Done 258 tasks      | elapsed:    7.3s\n",
      "[Parallel(n_jobs=-1)]: Done 608 tasks      | elapsed:   18.9s\n",
      "[Parallel(n_jobs=-1)]: Done 1058 tasks      | elapsed:   36.5s\n",
      "[Parallel(n_jobs=-1)]: Done 1608 tasks      | elapsed:  1.1min\n",
      "[Parallel(n_jobs=-1)]: Done 2258 tasks      | elapsed:  1.7min\n",
      "[Parallel(n_jobs=-1)]: Done 3008 tasks      | elapsed:  2.7min\n",
      "[Parallel(n_jobs=-1)]: Done 3858 tasks      | elapsed:  4.0min\n",
      "[Parallel(n_jobs=-1)]: Done 4808 tasks      | elapsed:  5.7min\n",
      "[Parallel(n_jobs=-1)]: Done 5858 tasks      | elapsed:  8.0min\n",
      "[Parallel(n_jobs=-1)]: Done 7008 tasks      | elapsed: 10.9min\n",
      "[Parallel(n_jobs=-1)]: Done 8258 tasks      | elapsed: 14.6min\n",
      "[Parallel(n_jobs=-1)]: Done 9608 tasks      | elapsed: 19.2min\n",
      "[Parallel(n_jobs=-1)]: Done 9995 out of 9995 | elapsed: 20.5min finished\n"
     ]
    },
    {
     "name": "stdout",
     "output_type": "stream",
     "text": [
      "MLP CV Model: Fit Time: 1234.555992603302\n",
      "MLP CV Model: Predict Time: 0.18702173233032227\n",
      "Score of Model Tree are (Mean Accuracy of test and train data): 0.8317211730385383\n",
      "              precision    recall  f1-score   support\n",
      "\n",
      "           0       0.87      0.92      0.89      4945\n",
      "           1       0.69      0.55      0.61      1568\n",
      "\n",
      "    accuracy                           0.83      6513\n",
      "   macro avg       0.78      0.73      0.75      6513\n",
      "weighted avg       0.82      0.83      0.82      6513\n",
      "\n"
     ]
    }
   ],
   "source": [
    "### TUNING ####\n",
    "d = x_train.shape[1]\n",
    "param = {'adaboostclassifier__learning_rate': [1.8],\n",
    "         'adaboostclassifier__algorithm': ['SAMME'],\n",
    "         'adaboostclassifier__n_estimators': np.arange(1, 2000),\n",
    "         'adaboostclassifier__base_estimator': [DecisionTreeClassifier(random_state=0, max_depth=1)]\n",
    "        }\n",
    "clf_cv = GridSearchCV(pipeline, n_jobs=-1, param_grid=param, refit=True, cv=5, return_train_score=True, verbose=1)\n",
    "start_time = time.time()\n",
    "clf_cv = clf_cv.fit(x_train_scaled, np.ravel(y_train_scaled))\n",
    "print(f\"MLP CV Model: Fit Time: {time.time() - start_time}\")\n",
    "start_time = time.time()\n",
    "y_pred_pipeline_cv = clf_cv.predict(x_test_scaled)\n",
    "print(f\"MLP CV Model: Predict Time: {time.time() - start_time}\")\n",
    "print(f\"Score of Model Tree are (Mean Accuracy of test and train data): {accuracy_score(y_test_scaled, y_pred_pipeline_cv)}\")\n",
    "print(classification_report(np.ravel(y_test_scaled), y_pred_pipeline_cv))"
   ]
  },
  {
   "cell_type": "code",
   "execution_count": 83,
   "metadata": {},
   "outputs": [
    {
     "data": {
      "text/plain": [
       "{'adaboostclassifier__algorithm': 'SAMME',\n",
       " 'adaboostclassifier__base_estimator': DecisionTreeClassifier(max_depth=1, random_state=1),\n",
       " 'adaboostclassifier__learning_rate': 1.8,\n",
       " 'adaboostclassifier__n_estimators': 906}"
      ]
     },
     "execution_count": 83,
     "metadata": {},
     "output_type": "execute_result"
    }
   ],
   "source": [
    "clf_cv.best_params_"
   ]
  },
  {
   "cell_type": "code",
   "execution_count": 84,
   "metadata": {},
   "outputs": [],
   "source": [
    "### Learning Curve ###\n",
    "train_sizes = np.arange(0.1, 1.0, 0.1)\n",
    "clf_new = AdaBoostClassifier(base_estimator=DecisionTreeClassifier(random_state=0, max_depth=1), \n",
    "                             n_estimators=906, learning_rate=1.8, algorithm=\"SAMME\")\n",
    "_, train_scores, test_scores = learning_curve(clf_new, x_train, np.ravel(y_train), train_sizes=train_sizes, cv=5)"
   ]
  },
  {
   "cell_type": "code",
   "execution_count": 85,
   "metadata": {},
   "outputs": [
    {
     "data": {
      "image/png": "[encoded data removed]",
      "text/plain": [
       "<Figure size 432x288 with 1 Axes>"
      ]
     },
     "metadata": {
      "needs_background": "light"
     },
     "output_type": "display_data"
    }
   ],
   "source": [
    "plt.figure()\n",
    "mean_train_scores = np.mean(train_scores, axis=1)\n",
    "std_train_scores = np.std(train_scores, axis=1)\n",
    "mean_test_scores = np.mean(test_scores, axis=1)\n",
    "std_test_scores = np.std(test_scores, axis=1)\n",
    "plt.plot(train_sizes, mean_train_scores, 'o-', label='Training score')\n",
    "plt.fill_between(train_sizes, mean_train_scores - std_train_scores, mean_train_scores + std_train_scores, alpha=0.2)\n",
    "plt.plot(train_sizes, mean_test_scores, 'o-', label='Cross-validation score')\n",
    "plt.fill_between(train_sizes, mean_test_scores - std_test_scores, mean_test_scores + std_test_scores, alpha=0.2)\n",
    "plt.title('Learning curve for decision tree')\n",
    "plt.xlabel('Fraction of training examples')\n",
    "plt.ylabel(\"Classification score\")\n",
    "plt.legend(loc=\"best\")\n",
    "plt.grid()\n",
    "#plt.savefig(fig_path + 'dt_learning_curve.png')\n",
    "plt.show()"
   ]
  },
  {
   "cell_type": "code",
   "execution_count": 95,
   "metadata": {},
   "outputs": [
    {
     "name": "stdout",
     "output_type": "stream",
     "text": [
      "Entire cell took 80.69870400428772\n"
     ]
    }
   ],
   "source": [
    "lw = 2\n",
    "params = np.arange(900, 1000, 10)\n",
    "# params = np.arange(0.1, 2.0, 0.2)\n",
    "clf_score_list = []\n",
    "fit_time_list = []\n",
    "predict_time_list = []\n",
    "main_start_time = time.time()\n",
    "for i in params:\n",
    "    clf = AdaBoostClassifier(base_estimator=DecisionTreeClassifier(random_state=0, max_depth=1), n_estimators=i, learning_rate=1.8)\n",
    "    start_time = time.time()\n",
    "    clf.fit(x_train_scaled, y_train_scaled)\n",
    "    clf_score_list.append(clf.score(x_test_scaled, y_test_scaled))\n",
    "    \n",
    "    end_time = time.time() - start_time\n",
    "    fit_time_list.append(end_time)\n",
    "    \n",
    "    start_time = time.time()\n",
    "    y_pred = clf.predict(x_test_scaled)\n",
    "    end_time = time.time() - start_time\n",
    "    predict_time_list.append(end_time)\n",
    "    \n",
    "print(f\"Entire cell took {time.time() - main_start_time}\")"
   ]
  },
  {
   "cell_type": "code",
   "execution_count": 92,
   "metadata": {},
   "outputs": [
    {
     "data": {
      "text/plain": [
       "<matplotlib.legend.Legend at 0x7fe7212ab0a0>"
      ]
     },
     "execution_count": 92,
     "metadata": {},
     "output_type": "execute_result"
    },
    {
     "data": {
      "image/png": "[encoded data removed]",
      "text/plain": [
       "<Figure size 432x288 with 1 Axes>"
      ]
     },
     "metadata": {
      "needs_background": "light"
     },
     "output_type": "display_data"
    }
   ],
   "source": [
    "def normalize_data_points(points):\n",
    "    return [float(i)/sum(points) for i in points]\n",
    "\n",
    "lw = 2\n",
    "param_list = params\n",
    "plt.plot(param_list, normalize_data_points(fit_time_list), label=\"Fit time\", color=\"darkred\", lw=lw)\n",
    "plt.plot(param_list, normalize_data_points(predict_time_list), label=\"Predict Time\", color=\"darkgreen\", lw=lw)\n",
    "\n",
    "plt.xlabel('C')\n",
    "plt.ylabel(\"Time(seconds)\")\n",
    "# plt.xticks(np.arange(1, len(param_list), 2.0))\n",
    "# plt.yticks(np.arange(min(predict_time_list), max(fit_time_list), 0.004))\n",
    "plt.grid()\n",
    "plt.legend(loc='lower right')"
   ]
  },
  {
   "cell_type": "code",
   "execution_count": 93,
   "metadata": {},
   "outputs": [
    {
     "data": {
      "text/plain": [
       "<matplotlib.legend.Legend at 0x7fe72180c310>"
      ]
     },
     "execution_count": 93,
     "metadata": {},
     "output_type": "execute_result"
    },
    {
     "data": {
      "image/png": "[encoded data removed]",
      "text/plain": [
       "<Figure size 432x288 with 1 Axes>"
      ]
     },
     "metadata": {
      "needs_background": "light"
     },
     "output_type": "display_data"
    }
   ],
   "source": [
    "w = 2\n",
    "plt.plot(param_list, clf_score_list, label=\"Scores\", color=\"darkblue\", lw=lw)\n",
    "plt.xlabel('C')\n",
    "plt.ylabel(\"Score\")\n",
    "plt.grid()\n",
    "plt.legend(loc='lower right')"
   ]
  },
  {
   "cell_type": "code",
   "execution_count": null,
   "metadata": {},
   "outputs": [],
   "source": []
  }
 ],
 "metadata": {
  "kernelspec": {
   "display_name": "Python 3",
   "language": "python",
   "name": "python3"
  },
  "language_info": {
   "codemirror_mode": {
    "name": "ipython",
    "version": 3
   },
   "file_extension": ".py",
   "mimetype": "text/x-python",
   "name": "python",
   "nbconvert_exporter": "python",
   "pygments_lexer": "ipython3",
   "version": "3.8.2"
  }
 },
 "nbformat": 4,
 "nbformat_minor": 4
}
